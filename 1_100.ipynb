{
  "nbformat": 4,
  "nbformat_minor": 0,
  "metadata": {
    "colab": {
      "name": "Untitled0.ipynb",
      "provenance": [],
      "authorship_tag": "ABX9TyM0SkseFyx0dpQsls6S2Mio",
      "include_colab_link": true
    },
    "kernelspec": {
      "name": "python3",
      "display_name": "Python 3"
    }
  },
  "cells": [
    {
      "cell_type": "markdown",
      "metadata": {
        "id": "view-in-github",
        "colab_type": "text"
      },
      "source": [
        "<a href=\"https://colab.research.google.com/github/6306022610113/INEPython/blob/master/1_100.ipynb\" target=\"_parent\"><img src=\"https://colab.research.google.com/assets/colab-badge.svg\" alt=\"Open In Colab\"/></a>"
      ]
    },
    {
      "cell_type": "code",
      "metadata": {
        "id": "OvYeKVQLDOn6",
        "colab_type": "code",
        "colab": {
          "base_uri": "https://localhost:8080/",
          "height": 218
        },
        "outputId": "a8ba376e-3a16-495b-92ac-03eb718a284e"
      },
      "source": [
        "num = int(input('Enter end volue : '))\n",
        "col = int(input('Enter number of column : '))\n",
        "pr = 1\n",
        "while pr <= num:\n",
        "  for i in range(col):\n",
        "     if pr <= num :\n",
        "      print('\\t', pr,' ', end='')\n",
        "      pr  +=  1\n",
        "  print()"
      ],
      "execution_count": 17,
      "outputs": [
        {
          "output_type": "stream",
          "text": [
            "Enter end volue : 100\n",
            "Enter number of column : 10\n",
            "\t 1  \t 2  \t 3  \t 4  \t 5  \t 6  \t 7  \t 8  \t 9  \t 10  \n",
            "\t 11  \t 12  \t 13  \t 14  \t 15  \t 16  \t 17  \t 18  \t 19  \t 20  \n",
            "\t 21  \t 22  \t 23  \t 24  \t 25  \t 26  \t 27  \t 28  \t 29  \t 30  \n",
            "\t 31  \t 32  \t 33  \t 34  \t 35  \t 36  \t 37  \t 38  \t 39  \t 40  \n",
            "\t 41  \t 42  \t 43  \t 44  \t 45  \t 46  \t 47  \t 48  \t 49  \t 50  \n",
            "\t 51  \t 52  \t 53  \t 54  \t 55  \t 56  \t 57  \t 58  \t 59  \t 60  \n",
            "\t 61  \t 62  \t 63  \t 64  \t 65  \t 66  \t 67  \t 68  \t 69  \t 70  \n",
            "\t 71  \t 72  \t 73  \t 74  \t 75  \t 76  \t 77  \t 78  \t 79  \t 80  \n",
            "\t 81  \t 82  \t 83  \t 84  \t 85  \t 86  \t 87  \t 88  \t 89  \t 90  \n",
            "\t 91  \t 92  \t 93  \t 94  \t 95  \t 96  \t 97  \t 98  \t 99  \t 100  \n"
          ],
          "name": "stdout"
        }
      ]
    }
  ]
}