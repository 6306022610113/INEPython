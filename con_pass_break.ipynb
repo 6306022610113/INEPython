{
  "nbformat": 4,
  "nbformat_minor": 0,
  "metadata": {
    "colab": {
      "name": "Untitled0.ipynb",
      "provenance": [],
      "authorship_tag": "ABX9TyOSh9HCUV5gpHY1SLU6yQIh",
      "include_colab_link": true
    },
    "kernelspec": {
      "name": "python3",
      "display_name": "Python 3"
    }
  },
  "cells": [
    {
      "cell_type": "markdown",
      "metadata": {
        "id": "view-in-github",
        "colab_type": "text"
      },
      "source": [
        "<a href=\"https://colab.research.google.com/github/6306022610113/INEPython/blob/master/con_pass_break.ipynb\" target=\"_parent\"><img src=\"https://colab.research.google.com/assets/colab-badge.svg\" alt=\"Open In Colab\"/></a>"
      ]
    },
    {
      "cell_type": "code",
      "metadata": {
        "id": "zTZWaghVW7yM",
        "colab_type": "code",
        "colab": {
          "base_uri": "https://localhost:8080/",
          "height": 238
        },
        "outputId": "2edfdf27-2e42-4297-c623-1d2891232bbf"
      },
      "source": [
        "#Prints all letters except 'a' and 'k'\n",
        "for letter in 'Lalana Sukrak' :\n",
        "    if letter == 'a' or letter == 'k':\n",
        "      pass\n",
        "    print('Current Letter :',letter)"
      ],
      "execution_count": 3,
      "outputs": [
        {
          "output_type": "stream",
          "text": [
            "Current Letter : L\n",
            "Current Letter : a\n",
            "Current Letter : l\n",
            "Current Letter : a\n",
            "Current Letter : n\n",
            "Current Letter : a\n",
            "Current Letter :  \n",
            "Current Letter : S\n",
            "Current Letter : u\n",
            "Current Letter : k\n",
            "Current Letter : r\n",
            "Current Letter : a\n",
            "Current Letter : k\n"
          ],
          "name": "stdout"
        }
      ]
    }
  ]
}